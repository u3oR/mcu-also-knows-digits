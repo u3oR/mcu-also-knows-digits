{
 "cells": [
  {
   "cell_type": "markdown",
   "metadata": {},
   "source": [
    "### 1. 提取MNIST数据"
   ]
  },
  {
   "cell_type": "code",
   "execution_count": 10,
   "metadata": {},
   "outputs": [],
   "source": [
    "import numpy as np\n",
    "\n",
    "def read_idx_labels(filename):\n",
    "    with open(filename, 'rb') as f:\n",
    "        magic, num_items = int.from_bytes(f.read(4), 'big'), int.from_bytes(f.read(4), 'big')\n",
    "        if magic != 2049:  # Magic number for the MNIST label file\n",
    "            raise ValueError(\"File is not a valid MNIST label file.\")\n",
    "\n",
    "        # Read the labels\n",
    "        labels = np.frombuffer(f.read(), dtype=np.uint8)\n",
    "        return labels\n",
    "\n",
    "\n",
    "def read_idx_images(filename):\n",
    "    with open(filename, 'rb') as f:\n",
    "        # Read the magic number\n",
    "        magic = int.from_bytes(f.read(4), 'big')\n",
    "        if magic != 2051:  # Magic number for the MNIST image file\n",
    "            raise ValueError(\"File is not a valid MNIST image file.\")\n",
    "\n",
    "        # Read dimensions: number of images, rows, and columns\n",
    "        num_images = int.from_bytes(f.read(4), 'big')\n",
    "        rows = int.from_bytes(f.read(4), 'big')\n",
    "        cols = int.from_bytes(f.read(4), 'big')\n",
    "\n",
    "        # Read the data\n",
    "        data = np.frombuffer(f.read(), dtype=np.uint8)\n",
    "        data = data.reshape(num_images, rows, cols)\n",
    "        return data"
   ]
  },
  {
   "cell_type": "markdown",
   "metadata": {},
   "source": []
  },
  {
   "cell_type": "code",
   "execution_count": 11,
   "metadata": {},
   "outputs": [
    {
     "name": "stdout",
     "output_type": "stream",
     "text": [
      "(60000, 28, 28)\n"
     ]
    },
    {
     "data": {
      "image/png": "[encoded data removed]",
      "text/plain": [
       "<Figure size 640x480 with 1 Axes>"
      ]
     },
     "metadata": {},
     "output_type": "display_data"
    }
   ],
   "source": [
    "import matplotlib.pyplot as plt\n",
    "\n",
    "images_train = read_idx_images('MNIST_ORG/train-images.idx3-ubyte')\n",
    "labels_train = read_idx_labels('MNIST_ORG/train-labels.idx1-ubyte')\n",
    "\n",
    "images_test = read_idx_images('MNIST_ORG/t10k-images.idx3-ubyte')\n",
    "labels_test = read_idx_labels('MNIST_ORG/t10k-labels.idx1-ubyte')\n",
    "\n",
    "print(images_train.shape)\n",
    "print(labels_train.shape)\n"
   ]
  },
  {
   "cell_type": "code",
   "execution_count": null,
   "metadata": {},
   "outputs": [],
   "source": [
    "plt.imshow(images_train[100], cmap='gray')\n",
    "plt.title(labels_train[100])\n",
    "plt.show()"
   ]
  },
  {
   "cell_type": "markdown",
   "metadata": {},
   "source": [
    "### 2.数据预处理"
   ]
  },
  {
   "cell_type": "markdown",
   "metadata": {},
   "source": [
    "我们需要对数据预处理。归一化图像数据以及对标签进行one-hot编码。"
   ]
  },
  {
   "cell_type": "code",
   "execution_count": 12,
   "metadata": {},
   "outputs": [],
   "source": [
    "from tensorflow.keras.utils import to_categorical\n",
    "\n",
    "# 归一化图像数据\n",
    "images_train = images_train.astype('float32') / 255\n",
    "images_test = images_test.astype('float32') / 255\n",
    "\n",
    "# 将标签转换为 one-hot 编码\n",
    "labels_train = to_categorical(labels_train, 10)\n",
    "labels_test = to_categorical(labels_test, 10)\n"
   ]
  },
  {
   "cell_type": "code",
   "execution_count": 13,
   "metadata": {},
   "outputs": [
    {
     "data": {
      "image/png": "[encoded data removed]",
      "text/plain": [
       "<Figure size 640x480 with 1 Axes>"
      ]
     },
     "metadata": {},
     "output_type": "display_data"
    }
   ],
   "source": [
    "import matplotlib.pyplot as plt\n",
    "plt.imshow(images_train[10000], cmap='gray')\n",
    "plt.title(labels_train[10000])\n",
    "plt.show()"
   ]
  },
  {
   "cell_type": "markdown",
   "metadata": {},
   "source": [
    "### 3.构建模型"
   ]
  },
  {
   "cell_type": "markdown",
   "metadata": {},
   "source": [
    "使用Keras构建一个简单的卷积神经网络："
   ]
  },
  {
   "cell_type": "code",
   "execution_count": 14,
   "metadata": {},
   "outputs": [
    {
     "name": "stdout",
     "output_type": "stream",
     "text": [
      "Model: \"sequential_1\"\n",
      "_________________________________________________________________\n",
      " Layer (type)                Output Shape              Param #   \n",
      "=================================================================\n",
      " flatten_1 (Flatten)         (None, 784)               0         \n",
      "                                                                 \n",
      " dense_2 (Dense)             (None, 64)                50240     \n",
      "                                                                 \n",
      " dropout_1 (Dropout)         (None, 64)                0         \n",
      "                                                                 \n",
      " dense_3 (Dense)             (None, 10)                650       \n",
      "                                                                 \n",
      " activation_1 (Activation)   (None, 10)                0         \n",
      "                                                                 \n",
      "=================================================================\n",
      "Total params: 50,890\n",
      "Trainable params: 50,890\n",
      "Non-trainable params: 0\n",
      "_________________________________________________________________\n"
     ]
    }
   ],
   "source": [
    "import tensorflow as tf\n",
    "\n",
    "\n",
    "model = tf.keras.models.Sequential([\n",
    "  tf.keras.layers.Flatten(input_shape=(28, 28)),\n",
    "  tf.keras.layers.Dense(64, activation='relu', kernel_constraint=tf.keras.constraints.MinMaxNorm(min_value=-2.0, max_value=2.0)),\n",
    "  tf.keras.layers.Dropout(0.2),\n",
    "  tf.keras.layers.Dense(10, kernel_constraint=tf.keras.constraints.MinMaxNorm(min_value=-2.0, max_value=2.0)),\n",
    "  tf.keras.layers.Activation('softmax')\n",
    "])\n",
    "\n",
    "model.compile(optimizer='adam', loss='categorical_crossentropy', metrics=['accuracy'])\n",
    "model.summary()\n"
   ]
  },
  {
   "cell_type": "markdown",
   "metadata": {},
   "source": [
    "现在模型已经构建好了，我们来训练它。"
   ]
  },
  {
   "cell_type": "code",
   "execution_count": 16,
   "metadata": {},
   "outputs": [
    {
     "name": "stdout",
     "output_type": "stream",
     "text": [
      "Epoch 1/10\n",
      "938/938 [==============================] - 2s 2ms/step - loss: 0.4255 - accuracy: 0.8776 - val_loss: 0.2020 - val_accuracy: 0.9416\n",
      "Epoch 2/10\n",
      "938/938 [==============================] - 2s 2ms/step - loss: 0.2291 - accuracy: 0.9343 - val_loss: 0.1644 - val_accuracy: 0.9539\n",
      "Epoch 3/10\n",
      "938/938 [==============================] - 2s 2ms/step - loss: 0.1936 - accuracy: 0.9439 - val_loss: 0.1437 - val_accuracy: 0.9588\n",
      "Epoch 4/10\n",
      "938/938 [==============================] - 2s 2ms/step - loss: 0.1789 - accuracy: 0.9486 - val_loss: 0.1383 - val_accuracy: 0.9606\n",
      "Epoch 5/10\n",
      "938/938 [==============================] - 2s 2ms/step - loss: 0.1704 - accuracy: 0.9516 - val_loss: 0.1303 - val_accuracy: 0.9640\n",
      "Epoch 6/10\n",
      "938/938 [==============================] - 2s 2ms/step - loss: 0.1626 - accuracy: 0.9544 - val_loss: 0.1293 - val_accuracy: 0.9626\n",
      "Epoch 7/10\n",
      "938/938 [==============================] - 2s 2ms/step - loss: 0.1606 - accuracy: 0.9559 - val_loss: 0.1296 - val_accuracy: 0.9647\n",
      "Epoch 8/10\n",
      "938/938 [==============================] - 2s 2ms/step - loss: 0.1584 - accuracy: 0.9556 - val_loss: 0.1258 - val_accuracy: 0.9647\n",
      "Epoch 9/10\n",
      "938/938 [==============================] - 2s 2ms/step - loss: 0.1555 - accuracy: 0.9563 - val_loss: 0.1314 - val_accuracy: 0.9638\n",
      "Epoch 10/10\n",
      "938/938 [==============================] - 1s 2ms/step - loss: 0.1539 - accuracy: 0.9570 - val_loss: 0.1228 - val_accuracy: 0.9658\n"
     ]
    },
    {
     "data": {
      "text/plain": [
       "<keras.callbacks.History at 0x1dd3abd20a0>"
      ]
     },
     "execution_count": 16,
     "metadata": {},
     "output_type": "execute_result"
    }
   ],
   "source": [
    "model.fit(images_train, labels_train, epochs=10, batch_size=64, validation_data=(images_test, labels_test))"
   ]
  },
  {
   "cell_type": "markdown",
   "metadata": {},
   "source": [
    "使用验证集测试准确度"
   ]
  },
  {
   "cell_type": "code",
   "execution_count": 17,
   "metadata": {},
   "outputs": [
    {
     "name": "stdout",
     "output_type": "stream",
     "text": [
      "313/313 - 0s - loss: 0.1228 - accuracy: 0.9658 - 334ms/epoch - 1ms/step\n",
      "\n",
      "Test accuracy: 0.9657999873161316\n"
     ]
    }
   ],
   "source": [
    "test_loss, test_acc = model.evaluate(images_test, labels_test, verbose=2)\n",
    "print('\\nTest accuracy:', test_acc)\n"
   ]
  },
  {
   "cell_type": "markdown",
   "metadata": {},
   "source": [
    "保存整个模型"
   ]
  },
  {
   "cell_type": "code",
   "execution_count": 18,
   "metadata": {},
   "outputs": [],
   "source": [
    "model.save('model/mnist.h5')\n",
    "model.save_weights('model/mnist_weights.h5')"
   ]
  },
  {
   "cell_type": "markdown",
   "metadata": {},
   "source": [
    "### 4.转换TFLite"
   ]
  },
  {
   "cell_type": "markdown",
   "metadata": {},
   "source": [
    "转换为TensorFlow Lite格式"
   ]
  },
  {
   "cell_type": "code",
   "execution_count": 20,
   "metadata": {},
   "outputs": [
    {
     "name": "stdout",
     "output_type": "stream",
     "text": [
      "INFO:tensorflow:Assets written to: C:\\Users\\Q\\AppData\\Local\\Temp\\tmpvf2stsez\\assets\n"
     ]
    },
    {
     "data": {
      "text/plain": [
       "55128"
      ]
     },
     "execution_count": 20,
     "metadata": {},
     "output_type": "execute_result"
    }
   ],
   "source": [
    "import tensorflow as tf\n",
    " \n",
    " \n",
    "model = tf.keras.models.load_model('model/mnist.h5')\n",
    "converter = tf.lite.TFLiteConverter.from_keras_model(model)\n",
    " \n",
    "# 开启动态量化\n",
    "converter.optimizations = [tf.lite.Optimize.DEFAULT]\n",
    "tflite_model = converter.convert()\n",
    "open(\"model/mnist_quantized_model.tflite\", \"wb\").write(tflite_model)"
   ]
  }
 ],
 "metadata": {
  "kernelspec": {
   "display_name": "Python 3",
   "language": "python",
   "name": "python3"
  },
  "language_info": {
   "codemirror_mode": {
    "name": "ipython",
    "version": 3
   },
   "file_extension": ".py",
   "mimetype": "text/x-python",
   "name": "python",
   "nbconvert_exporter": "python",
   "pygments_lexer": "ipython3",
   "version": "3.9.16"
  }
 },
 "nbformat": 4,
 "nbformat_minor": 2
}
